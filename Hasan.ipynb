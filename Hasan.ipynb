{
 "cells": [
  {
   "cell_type": "markdown",
   "metadata": {},
   "source": [
    "## Chess Project"
   ]
  },
  {
   "cell_type": "markdown",
   "metadata": {},
   "source": [
    "# Table of Contents<span class=\"tocSkip\"></span>\n",
    "<div class=\"toc\"><ul class=\"toc-item\"><li><span><a href=\"#About the Dataset\" data-toc-modified-id=\"About the Dataset-1\"><span class=\"toc-item-num\">1&nbsp;&nbsp;</span>About the Dataset</a></span></li><li><span><a href=\"#Data Visualization\" data-toc-modified-id=\"Data Visualization-2\"><span class=\"toc-item-num\">2&nbsp;&nbsp;</span>Data Visualization</a></span></li><li><span><a href=\"#Data Preparation and Preprocessing\" data-toc-modified-id=\"Data Preparation and Preprocessing-3\"><span class=\"toc-item-num\">3&nbsp;&nbsp;</span>Data Preparation and Preprocessing</a></span></li><li><span><a href=\"#Model Planning\" data-toc-modified-id=\"Model Planning-4\"><span class=\"toc-item-num\">4&nbsp;&nbsp;</span>Model Planning</a></span></li><li><span><a href=\"#Training models\" data-toc-modified-id=\"Training models-5\"><span class=\"toc-item-num\">5&nbsp;&nbsp;</span>Training models</a></span></li><li><span><a href=\"#Model Selection\" data-toc-modified-id=\"Model Selection-6\"><span class=\"toc-item-num\">6&nbsp;&nbsp;</span>Model Selection</a></span></li><li><span><a href=\"#Final Model Results\" data-toc-modified-id=\"Final Model Results-7\"><span class=\"toc-item-num\">7&nbsp;&nbsp;</span>Final Model Results</a></span></li></ul></div>\n"
   ]
  },
  {
   "cell_type": "markdown",
   "metadata": {},
   "source": [
    "## About the Dataset\n",
    "\n",
    "\n",
    "This is a set of just over 20,000 games collected from a selection of users on the site Lichess.org, and how to collect more. I will also upload more games in the future as I collect them. This set contains the:\n",
    "\n",
    "- Game ID\n",
    "\n",
    "\n",
    "\n",
    "\n",
    "- Rated (T/F)\n",
    "\n",
    "\n",
    "\n",
    "\n",
    "- Start Time\n",
    "\n",
    "\n",
    "- End Time\n",
    "\n",
    "\n",
    "- Number of Turns\n",
    "\n",
    "\n",
    "- Game Status\n",
    "\n",
    "\n",
    "- Winner\n",
    "\n",
    "\n",
    "- Time Increment\n",
    "\n",
    "\n",
    "- White Player ID\n",
    "\n",
    "\n",
    "- White Player Rating\n",
    "\n",
    "\n",
    "- Black Player ID\n",
    "\n",
    "\n",
    "- Black Player Rating\n",
    "\n",
    "\n",
    "- All Moves in Standard Chess Notation\n",
    "\n",
    "\n",
    "- Opening Eco (Standardised Code for any given opening, list here)\n",
    "\n",
    "\n",
    "- Opening Name\n",
    "\n",
    "\n",
    "Opening Ply (Number of moves in the opening phase)\n",
    "For each of these separate games from Lichess. I collected this data using the Lichess API, which enables collection of any given users game history. The difficult part was collecting usernames to use, however the API also enables dumping of all users in a Lichess team. There are several teams on Lichess with over 1,500 players, so this proved an effective way to get users to collect games from."
   ]
  },
  {
   "cell_type": "markdown",
   "metadata": {},
   "source": [
    "## Data Visualization"
   ]
  },
  {
   "cell_type": "code",
   "execution_count": 83,
   "metadata": {
    "ExecuteTime": {
     "end_time": "2023-07-26T16:40:53.918460Z",
     "start_time": "2023-07-26T16:40:48.191061Z"
    }
   },
   "outputs": [],
   "source": [
    "# Importing libraries\n",
    "\n",
    "import numpy as np\n",
    "import pandas as pd\n",
    "import matplotlib.pyplot as plt\n",
    "import seaborn as sns"
   ]
  },
  {
   "cell_type": "code",
   "execution_count": 84,
   "metadata": {
    "ExecuteTime": {
     "end_time": "2023-07-26T16:42:25.384038Z",
     "start_time": "2023-07-26T16:42:25.027996Z"
    }
   },
   "outputs": [
    {
     "data": {
      "text/html": [
       "<div>\n",
       "<style scoped>\n",
       "    .dataframe tbody tr th:only-of-type {\n",
       "        vertical-align: middle;\n",
       "    }\n",
       "\n",
       "    .dataframe tbody tr th {\n",
       "        vertical-align: top;\n",
       "    }\n",
       "\n",
       "    .dataframe thead th {\n",
       "        text-align: right;\n",
       "    }\n",
       "</style>\n",
       "<table border=\"1\" class=\"dataframe\">\n",
       "  <thead>\n",
       "    <tr style=\"text-align: right;\">\n",
       "      <th></th>\n",
       "      <th>id</th>\n",
       "      <th>rated</th>\n",
       "      <th>created_at</th>\n",
       "      <th>last_move_at</th>\n",
       "      <th>turns</th>\n",
       "      <th>victory_status</th>\n",
       "      <th>winner</th>\n",
       "      <th>increment_code</th>\n",
       "      <th>white_id</th>\n",
       "      <th>white_rating</th>\n",
       "      <th>black_id</th>\n",
       "      <th>black_rating</th>\n",
       "      <th>moves</th>\n",
       "      <th>opening_eco</th>\n",
       "      <th>opening_name</th>\n",
       "      <th>opening_ply</th>\n",
       "    </tr>\n",
       "  </thead>\n",
       "  <tbody>\n",
       "    <tr>\n",
       "      <th>0</th>\n",
       "      <td>TZJHLljE</td>\n",
       "      <td>False</td>\n",
       "      <td>1.504210e+12</td>\n",
       "      <td>1.504210e+12</td>\n",
       "      <td>13</td>\n",
       "      <td>outoftime</td>\n",
       "      <td>white</td>\n",
       "      <td>15+2</td>\n",
       "      <td>bourgris</td>\n",
       "      <td>1500</td>\n",
       "      <td>a-00</td>\n",
       "      <td>1191</td>\n",
       "      <td>d4 d5 c4 c6 cxd5 e6 dxe6 fxe6 Nf3 Bb4+ Nc3 Ba5...</td>\n",
       "      <td>D10</td>\n",
       "      <td>Slav Defense: Exchange Variation</td>\n",
       "      <td>5</td>\n",
       "    </tr>\n",
       "    <tr>\n",
       "      <th>1</th>\n",
       "      <td>l1NXvwaE</td>\n",
       "      <td>True</td>\n",
       "      <td>1.504130e+12</td>\n",
       "      <td>1.504130e+12</td>\n",
       "      <td>16</td>\n",
       "      <td>resign</td>\n",
       "      <td>black</td>\n",
       "      <td>5+10</td>\n",
       "      <td>a-00</td>\n",
       "      <td>1322</td>\n",
       "      <td>skinnerua</td>\n",
       "      <td>1261</td>\n",
       "      <td>d4 Nc6 e4 e5 f4 f6 dxe5 fxe5 fxe5 Nxe5 Qd4 Nc6...</td>\n",
       "      <td>B00</td>\n",
       "      <td>Nimzowitsch Defense: Kennedy Variation</td>\n",
       "      <td>4</td>\n",
       "    </tr>\n",
       "    <tr>\n",
       "      <th>2</th>\n",
       "      <td>mIICvQHh</td>\n",
       "      <td>True</td>\n",
       "      <td>1.504130e+12</td>\n",
       "      <td>1.504130e+12</td>\n",
       "      <td>61</td>\n",
       "      <td>mate</td>\n",
       "      <td>white</td>\n",
       "      <td>5+10</td>\n",
       "      <td>ischia</td>\n",
       "      <td>1496</td>\n",
       "      <td>a-00</td>\n",
       "      <td>1500</td>\n",
       "      <td>e4 e5 d3 d6 Be3 c6 Be2 b5 Nd2 a5 a4 c5 axb5 Nc...</td>\n",
       "      <td>C20</td>\n",
       "      <td>King's Pawn Game: Leonardis Variation</td>\n",
       "      <td>3</td>\n",
       "    </tr>\n",
       "    <tr>\n",
       "      <th>3</th>\n",
       "      <td>kWKvrqYL</td>\n",
       "      <td>True</td>\n",
       "      <td>1.504110e+12</td>\n",
       "      <td>1.504110e+12</td>\n",
       "      <td>61</td>\n",
       "      <td>mate</td>\n",
       "      <td>white</td>\n",
       "      <td>20+0</td>\n",
       "      <td>daniamurashov</td>\n",
       "      <td>1439</td>\n",
       "      <td>adivanov2009</td>\n",
       "      <td>1454</td>\n",
       "      <td>d4 d5 Nf3 Bf5 Nc3 Nf6 Bf4 Ng4 e3 Nc6 Be2 Qd7 O...</td>\n",
       "      <td>D02</td>\n",
       "      <td>Queen's Pawn Game: Zukertort Variation</td>\n",
       "      <td>3</td>\n",
       "    </tr>\n",
       "  </tbody>\n",
       "</table>\n",
       "</div>"
      ],
      "text/plain": [
       "         id  rated    created_at  last_move_at  turns victory_status winner  \\\n",
       "0  TZJHLljE  False  1.504210e+12  1.504210e+12     13      outoftime  white   \n",
       "1  l1NXvwaE   True  1.504130e+12  1.504130e+12     16         resign  black   \n",
       "2  mIICvQHh   True  1.504130e+12  1.504130e+12     61           mate  white   \n",
       "3  kWKvrqYL   True  1.504110e+12  1.504110e+12     61           mate  white   \n",
       "\n",
       "  increment_code       white_id  white_rating      black_id  black_rating  \\\n",
       "0           15+2       bourgris          1500          a-00          1191   \n",
       "1           5+10           a-00          1322     skinnerua          1261   \n",
       "2           5+10         ischia          1496          a-00          1500   \n",
       "3           20+0  daniamurashov          1439  adivanov2009          1454   \n",
       "\n",
       "                                               moves opening_eco  \\\n",
       "0  d4 d5 c4 c6 cxd5 e6 dxe6 fxe6 Nf3 Bb4+ Nc3 Ba5...         D10   \n",
       "1  d4 Nc6 e4 e5 f4 f6 dxe5 fxe5 fxe5 Nxe5 Qd4 Nc6...         B00   \n",
       "2  e4 e5 d3 d6 Be3 c6 Be2 b5 Nd2 a5 a4 c5 axb5 Nc...         C20   \n",
       "3  d4 d5 Nf3 Bf5 Nc3 Nf6 Bf4 Ng4 e3 Nc6 Be2 Qd7 O...         D02   \n",
       "\n",
       "                             opening_name  opening_ply  \n",
       "0        Slav Defense: Exchange Variation            5  \n",
       "1  Nimzowitsch Defense: Kennedy Variation            4  \n",
       "2   King's Pawn Game: Leonardis Variation            3  \n",
       "3  Queen's Pawn Game: Zukertort Variation            3  "
      ]
     },
     "metadata": {},
     "output_type": "display_data"
    }
   ],
   "source": [
    "# Importing the dataset\n",
    "\n",
    "df = pd.read_csv('games.csv')\n",
    "display(df.head(4))"
   ]
  },
  {
   "cell_type": "code",
   "execution_count": 85,
   "metadata": {},
   "outputs": [
    {
     "name": "stdout",
     "output_type": "stream",
     "text": [
      "<class 'pandas.core.frame.DataFrame'>\n",
      "RangeIndex: 20058 entries, 0 to 20057\n",
      "Data columns (total 16 columns):\n",
      " #   Column          Non-Null Count  Dtype  \n",
      "---  ------          --------------  -----  \n",
      " 0   id              20058 non-null  object \n",
      " 1   rated           20058 non-null  bool   \n",
      " 2   created_at      20058 non-null  float64\n",
      " 3   last_move_at    20058 non-null  float64\n",
      " 4   turns           20058 non-null  int64  \n",
      " 5   victory_status  20058 non-null  object \n",
      " 6   winner          20058 non-null  object \n",
      " 7   increment_code  20058 non-null  object \n",
      " 8   white_id        20058 non-null  object \n",
      " 9   white_rating    20058 non-null  int64  \n",
      " 10  black_id        20058 non-null  object \n",
      " 11  black_rating    20058 non-null  int64  \n",
      " 12  moves           20058 non-null  object \n",
      " 13  opening_eco     20058 non-null  object \n",
      " 14  opening_name    20058 non-null  object \n",
      " 15  opening_ply     20058 non-null  int64  \n",
      "dtypes: bool(1), float64(2), int64(4), object(9)\n",
      "memory usage: 2.3+ MB\n"
     ]
    }
   ],
   "source": [
    "df.info()"
   ]
  },
  {
   "cell_type": "markdown",
   "metadata": {},
   "source": [
    "We notice that we don't have any missing values"
   ]
  },
  {
   "cell_type": "code",
   "execution_count": 86,
   "metadata": {},
   "outputs": [
    {
     "data": {
      "text/html": [
       "<div>\n",
       "<style scoped>\n",
       "    .dataframe tbody tr th:only-of-type {\n",
       "        vertical-align: middle;\n",
       "    }\n",
       "\n",
       "    .dataframe tbody tr th {\n",
       "        vertical-align: top;\n",
       "    }\n",
       "\n",
       "    .dataframe thead th {\n",
       "        text-align: right;\n",
       "    }\n",
       "</style>\n",
       "<table border=\"1\" class=\"dataframe\">\n",
       "  <thead>\n",
       "    <tr style=\"text-align: right;\">\n",
       "      <th></th>\n",
       "      <th>created_at</th>\n",
       "      <th>last_move_at</th>\n",
       "      <th>turns</th>\n",
       "      <th>white_rating</th>\n",
       "      <th>black_rating</th>\n",
       "      <th>opening_ply</th>\n",
       "    </tr>\n",
       "  </thead>\n",
       "  <tbody>\n",
       "    <tr>\n",
       "      <th>count</th>\n",
       "      <td>2.005800e+04</td>\n",
       "      <td>2.005800e+04</td>\n",
       "      <td>20058.000000</td>\n",
       "      <td>20058.000000</td>\n",
       "      <td>20058.000000</td>\n",
       "      <td>20058.000000</td>\n",
       "    </tr>\n",
       "    <tr>\n",
       "      <th>mean</th>\n",
       "      <td>1.483617e+12</td>\n",
       "      <td>1.483618e+12</td>\n",
       "      <td>60.465999</td>\n",
       "      <td>1596.631868</td>\n",
       "      <td>1588.831987</td>\n",
       "      <td>4.816981</td>\n",
       "    </tr>\n",
       "    <tr>\n",
       "      <th>std</th>\n",
       "      <td>2.850151e+10</td>\n",
       "      <td>2.850140e+10</td>\n",
       "      <td>33.570585</td>\n",
       "      <td>291.253376</td>\n",
       "      <td>291.036126</td>\n",
       "      <td>2.797152</td>\n",
       "    </tr>\n",
       "    <tr>\n",
       "      <th>min</th>\n",
       "      <td>1.376772e+12</td>\n",
       "      <td>1.376772e+12</td>\n",
       "      <td>1.000000</td>\n",
       "      <td>784.000000</td>\n",
       "      <td>789.000000</td>\n",
       "      <td>1.000000</td>\n",
       "    </tr>\n",
       "    <tr>\n",
       "      <th>25%</th>\n",
       "      <td>1.477548e+12</td>\n",
       "      <td>1.477548e+12</td>\n",
       "      <td>37.000000</td>\n",
       "      <td>1398.000000</td>\n",
       "      <td>1391.000000</td>\n",
       "      <td>3.000000</td>\n",
       "    </tr>\n",
       "    <tr>\n",
       "      <th>50%</th>\n",
       "      <td>1.496010e+12</td>\n",
       "      <td>1.496010e+12</td>\n",
       "      <td>55.000000</td>\n",
       "      <td>1567.000000</td>\n",
       "      <td>1562.000000</td>\n",
       "      <td>4.000000</td>\n",
       "    </tr>\n",
       "    <tr>\n",
       "      <th>75%</th>\n",
       "      <td>1.503170e+12</td>\n",
       "      <td>1.503170e+12</td>\n",
       "      <td>79.000000</td>\n",
       "      <td>1793.000000</td>\n",
       "      <td>1784.000000</td>\n",
       "      <td>6.000000</td>\n",
       "    </tr>\n",
       "    <tr>\n",
       "      <th>max</th>\n",
       "      <td>1.504493e+12</td>\n",
       "      <td>1.504494e+12</td>\n",
       "      <td>349.000000</td>\n",
       "      <td>2700.000000</td>\n",
       "      <td>2723.000000</td>\n",
       "      <td>28.000000</td>\n",
       "    </tr>\n",
       "  </tbody>\n",
       "</table>\n",
       "</div>"
      ],
      "text/plain": [
       "         created_at  last_move_at         turns  white_rating  black_rating  \\\n",
       "count  2.005800e+04  2.005800e+04  20058.000000  20058.000000  20058.000000   \n",
       "mean   1.483617e+12  1.483618e+12     60.465999   1596.631868   1588.831987   \n",
       "std    2.850151e+10  2.850140e+10     33.570585    291.253376    291.036126   \n",
       "min    1.376772e+12  1.376772e+12      1.000000    784.000000    789.000000   \n",
       "25%    1.477548e+12  1.477548e+12     37.000000   1398.000000   1391.000000   \n",
       "50%    1.496010e+12  1.496010e+12     55.000000   1567.000000   1562.000000   \n",
       "75%    1.503170e+12  1.503170e+12     79.000000   1793.000000   1784.000000   \n",
       "max    1.504493e+12  1.504494e+12    349.000000   2700.000000   2723.000000   \n",
       "\n",
       "        opening_ply  \n",
       "count  20058.000000  \n",
       "mean       4.816981  \n",
       "std        2.797152  \n",
       "min        1.000000  \n",
       "25%        3.000000  \n",
       "50%        4.000000  \n",
       "75%        6.000000  \n",
       "max       28.000000  "
      ]
     },
     "execution_count": 86,
     "metadata": {},
     "output_type": "execute_result"
    }
   ],
   "source": [
    "df.describe()"
   ]
  },
  {
   "cell_type": "code",
   "execution_count": 87,
   "metadata": {},
   "outputs": [
    {
     "data": {
      "image/png": "[encoded data removed]",
      "text/plain": [
       "<Figure size 432x288 with 1 Axes>"
      ]
     },
     "metadata": {
      "needs_background": "light"
     },
     "output_type": "display_data"
    },
    {
     "data": {
      "image/png": "[encoded data removed]",
      "text/plain": [
       "<Figure size 432x288 with 1 Axes>"
      ]
     },
     "metadata": {
      "needs_background": "light"
     },
     "output_type": "display_data"
    }
   ],
   "source": [
    "plt.figure()\n",
    "sns.histplot(x='white_rating', bins= 50 ,data=df);\n",
    "plt.show()\n",
    "plt.figure()\n",
    "sns.histplot(x='black_rating', bins= 30 ,data=df);\n",
    "plt.show()"
   ]
  },
  {
   "cell_type": "markdown",
   "metadata": {},
   "source": [
    "## Data Preparation and Preprocessing"
   ]
  },
  {
   "cell_type": "code",
   "execution_count": 88,
   "metadata": {},
   "outputs": [],
   "source": [
    "# We notice that white_id, black_id and the id columns give no information, so we drop them\n",
    "df.drop(['id', 'white_id', 'black_id'], axis=1, inplace=True)"
   ]
  },
  {
   "cell_type": "code",
   "execution_count": 89,
   "metadata": {},
   "outputs": [
    {
     "name": "stdout",
     "output_type": "stream",
     "text": [
      "rated length: 2\n",
      "created_at length: 13151\n",
      "last_move_at length: 13186\n",
      "turns length: 211\n",
      "victory_status length: 4\n",
      "winner length: 3\n",
      "increment_code length: 400\n",
      "white_rating length: 1516\n",
      "black_rating length: 1521\n",
      "moves length: 18920\n",
      "opening_eco length: 365\n",
      "opening_name length: 1477\n",
      "opening_ply length: 23\n"
     ]
    }
   ],
   "source": [
    "# Previewing dataset columns lenghts to see who should be splitted in multiple columns\n",
    "\n",
    "for col in df.columns:\n",
    "    print(f\"{col} length: {len(df[col].unique())}\")"
   ]
  },
  {
   "cell_type": "code",
   "execution_count": 90,
   "metadata": {},
   "outputs": [
    {
     "name": "stdout",
     "output_type": "stream",
     "text": [
      "<class 'pandas.core.frame.DataFrame'>\n",
      "RangeIndex: 20058 entries, 0 to 20057\n",
      "Data columns (total 16 columns):\n",
      " #   Column                    Non-Null Count  Dtype  \n",
      "---  ------                    --------------  -----  \n",
      " 0   rated                     20058 non-null  int32  \n",
      " 1   created_at                20058 non-null  float64\n",
      " 2   last_move_at              20058 non-null  float64\n",
      " 3   turns                     20058 non-null  int64  \n",
      " 4   winner                    20058 non-null  object \n",
      " 5   increment_code            20058 non-null  object \n",
      " 6   white_rating              20058 non-null  int64  \n",
      " 7   black_rating              20058 non-null  int64  \n",
      " 8   moves                     20058 non-null  object \n",
      " 9   opening_eco               20058 non-null  object \n",
      " 10  opening_name              20058 non-null  object \n",
      " 11  opening_ply               20058 non-null  int64  \n",
      " 12  victory_status_draw       20058 non-null  bool   \n",
      " 13  victory_status_mate       20058 non-null  bool   \n",
      " 14  victory_status_outoftime  20058 non-null  bool   \n",
      " 15  victory_status_resign     20058 non-null  bool   \n",
      "dtypes: bool(4), float64(2), int32(1), int64(4), object(5)\n",
      "memory usage: 1.8+ MB\n"
     ]
    }
   ],
   "source": [
    "# perform label encoding on boolen column\n",
    "df['rated'] = df['rated'].astype(int)\n",
    "\n",
    "# Perform One Hot Encoding on categorical columns with less than 5 unique values\n",
    "df = pd.get_dummies(df, columns=['victory_status'],drop_first=False)\n",
    "df.info()\n"
   ]
  },
  {
   "cell_type": "code",
   "execution_count": 91,
   "metadata": {},
   "outputs": [
    {
     "name": "stdout",
     "output_type": "stream",
     "text": [
      "<class 'pandas.core.frame.DataFrame'>\n",
      "RangeIndex: 20058 entries, 0 to 20057\n",
      "Data columns (total 16 columns):\n",
      " #   Column                    Non-Null Count  Dtype  \n",
      "---  ------                    --------------  -----  \n",
      " 0   rated                     20058 non-null  int32  \n",
      " 1   created_at                20058 non-null  float64\n",
      " 2   last_move_at              20058 non-null  float64\n",
      " 3   turns                     20058 non-null  int64  \n",
      " 4   winner                    20058 non-null  object \n",
      " 5   increment_code            20058 non-null  object \n",
      " 6   white_rating              20058 non-null  int64  \n",
      " 7   black_rating              20058 non-null  int64  \n",
      " 8   moves                     20058 non-null  object \n",
      " 9   opening_eco               20058 non-null  object \n",
      " 10  opening_name              20058 non-null  object \n",
      " 11  opening_ply               20058 non-null  int64  \n",
      " 12  victory_status_draw       20058 non-null  int32  \n",
      " 13  victory_status_mate       20058 non-null  int32  \n",
      " 14  victory_status_outoftime  20058 non-null  int32  \n",
      " 15  victory_status_resign     20058 non-null  int32  \n",
      "dtypes: float64(2), int32(5), int64(4), object(5)\n",
      "memory usage: 2.1+ MB\n"
     ]
    }
   ],
   "source": [
    "\n",
    "# Convert new colmuns  from uint8 to int\n",
    "columns = ['victory_status_draw', 'victory_status_mate',\n",
    "       'victory_status_outoftime', 'victory_status_resign']\n",
    "\n",
    "df.loc[:, columns] = df.loc[:, columns].astype(int)\n",
    "df.info()\n"
   ]
  },
  {
   "cell_type": "code",
   "execution_count": 92,
   "metadata": {},
   "outputs": [
    {
     "data": {
      "text/plain": [
       "count    20058.000000\n",
       "mean        30.490278\n",
       "std         16.782955\n",
       "min          1.000000\n",
       "25%         19.000000\n",
       "50%         28.000000\n",
       "75%         40.000000\n",
       "max        175.000000\n",
       "Name: moves, dtype: float64"
      ]
     },
     "execution_count": 92,
     "metadata": {},
     "output_type": "execute_result"
    }
   ],
   "source": [
    "# Previewing the moves stats to get a sense of the data\n",
    "import math\n",
    "df['moves'].apply(lambda x: math.ceil(len(x.split(' '))/2)).describe()"
   ]
  },
  {
   "cell_type": "code",
   "execution_count": 93,
   "metadata": {},
   "outputs": [],
   "source": [
    "# Now we are going to add a new column with the number of moves in each game\n",
    "df['moves_num'] = df['moves'].apply(lambda x: math.ceil(len(x.split(' '))/2))\n"
   ]
  },
  {
   "cell_type": "code",
   "execution_count": 94,
   "metadata": {},
   "outputs": [],
   "source": [
    "# The max number of moves in proffinal chess is less than 150, so we drop all outliers games\n",
    "Q1 = df['moves_num'].quantile(q=0.25) \n",
    "Q3 = df['moves_num'].quantile(q=0.75)\n",
    "\n",
    "IQR = Q3 - Q1\n",
    "\n",
    "df.drop(df[df['moves_num'] >= Q3 + 1.5*IQR].index, inplace=True)"
   ]
  },
  {
   "cell_type": "code",
   "execution_count": 95,
   "metadata": {},
   "outputs": [
    {
     "data": {
      "image/png": "[encoded data removed]",
      "text/plain": [
       "<Figure size 432x288 with 1 Axes>"
      ]
     },
     "metadata": {
      "needs_background": "light"
     },
     "output_type": "display_data"
    }
   ],
   "source": [
    "# Ploting box plot after deleting outliers\n",
    "plt.figure()\n",
    "sns.boxplot(y='moves_num',x='rated',data=df);\n",
    "plt.show()"
   ]
  },
  {
   "cell_type": "code",
   "execution_count": 96,
   "metadata": {},
   "outputs": [],
   "source": [
    "# We notice that still  there are some noisy in the data especially the lower wisker of the boxplot (there are many games with 1 moves)\n",
    "# In chess the minimum number of moves to win a game is 2 moves (Fool's mate) so we will remove all the games with less than 2 moves\n",
    "\n",
    "OneMove_games = df.drop(df[df['moves_num'] < 8].index, inplace=True)"
   ]
  },
  {
   "cell_type": "code",
   "execution_count": 97,
   "metadata": {},
   "outputs": [
    {
     "data": {
      "text/plain": [
       "count    18593.000000\n",
       "mean        30.795084\n",
       "std         14.228139\n",
       "min          8.000000\n",
       "25%         20.000000\n",
       "50%         28.000000\n",
       "75%         39.000000\n",
       "max         71.000000\n",
       "Name: moves_num, dtype: float64"
      ]
     },
     "execution_count": 97,
     "metadata": {},
     "output_type": "execute_result"
    }
   ],
   "source": [
    "df['moves_num'].describe()"
   ]
  },
  {
   "cell_type": "code",
   "execution_count": 98,
   "metadata": {},
   "outputs": [
    {
     "data": {
      "text/plain": [
       "count    1.859300e+04\n",
       "mean     8.812592e+05\n",
       "std      4.903121e+06\n",
       "min      0.000000e+00\n",
       "25%      0.000000e+00\n",
       "50%      2.863800e+05\n",
       "75%      8.052810e+05\n",
       "max      6.058447e+08\n",
       "Name: period, dtype: float64"
      ]
     },
     "execution_count": 98,
     "metadata": {},
     "output_type": "execute_result"
    }
   ],
   "source": [
    "# We are going to create a new column called period which is the difference between the last move and the creation of the account\n",
    "df['period'] = df['last_move_at'] - df['created_at']\n",
    "df['period'].describe() "
   ]
  },
  {
   "cell_type": "code",
   "execution_count": 99,
   "metadata": {},
   "outputs": [
    {
     "data": {
      "image/png": "[encoded data removed]",
      "text/plain": [
       "<Figure size 432x288 with 1 Axes>"
      ]
     },
     "metadata": {
      "needs_background": "light"
     },
     "output_type": "display_data"
    }
   ],
   "source": [
    "# Ploting box plot for period\n",
    "plt.figure()\n",
    "sns.boxplot(y = 'period', x = 'rated', data = df)\n",
    "plt.show()"
   ]
  },
  {
   "cell_type": "code",
   "execution_count": 100,
   "metadata": {},
   "outputs": [],
   "source": [
    "# Drop the 'created_at' and 'last_move_at' columns because they are not useful for our analysis and they are given in the wrong format.\n",
    "times_columns = df.drop(['created_at', 'last_move_at', 'period'], axis=1, inplace=True)"
   ]
  },
  {
   "cell_type": "code",
   "execution_count": 101,
   "metadata": {},
   "outputs": [],
   "source": [
    "# The increment_code columns represents ..., so we convert it to a better format by taking the number before the + sign\n",
    "df['increment_code'] = df['increment_code'].str.split('+').str[0].astype(int)\n",
    "# not a good idea to do this, because it will make the data skewed\n",
    "#df['increment_code'] = df['increment_code'].apply(lambda x: 1 if x > 0 else 0)\n",
    "#df['increment_code'] "
   ]
  },
  {
   "cell_type": "code",
   "execution_count": 102,
   "metadata": {},
   "outputs": [
    {
     "data": {
      "text/plain": [
       "increment_code\n",
       "10     8854\n",
       "15     3144\n",
       "5      1641\n",
       "20      870\n",
       "8       863\n",
       "30      699\n",
       "7       617\n",
       "25      294\n",
       "9       237\n",
       "12      216\n",
       "6       155\n",
       "45      149\n",
       "180     108\n",
       "11       89\n",
       "60       86\n",
       "13       65\n",
       "14       64\n",
       "4        59\n",
       "3        53\n",
       "2        51\n",
       "16       43\n",
       "17       37\n",
       "40       30\n",
       "1        30\n",
       "0        29\n",
       "90       24\n",
       "18       23\n",
       "35       23\n",
       "19       21\n",
       "120       9\n",
       "150       7\n",
       "29        2\n",
       "21        1\n",
       "Name: count, dtype: int64"
      ]
     },
     "execution_count": 102,
     "metadata": {},
     "output_type": "execute_result"
    }
   ],
   "source": [
    "df[\"increment_code\"].value_counts()"
   ]
  },
  {
   "cell_type": "markdown",
   "metadata": {},
   "source": [
    "Here we are going to preprocess the moves column and convert it into a better format.\n"
   ]
  },
  {
   "cell_type": "code",
   "execution_count": 103,
   "metadata": {},
   "outputs": [],
   "source": [
    "def create_2elementsList(array):\n",
    "    # initialize an empty list for the new array\n",
    "    new = []\n",
    "    # loop through the original array with a step of 2\n",
    "    for i in range(0, len(array), 2):\n",
    "        # append the two elements as a sub-list to the new array\n",
    "        new.append(array[i:i+2])\n",
    "    return new"
   ]
  },
  {
   "cell_type": "code",
   "execution_count": 104,
   "metadata": {},
   "outputs": [],
   "source": [
    "# Converting the elements of moves column form a sting if moves to a list\n",
    "df['moves'] = df['moves'].apply(lambda x: create_2elementsList(x.split()))"
   ]
  },
  {
   "cell_type": "code",
   "execution_count": 105,
   "metadata": {},
   "outputs": [
    {
     "data": {
      "text/plain": [
       "5"
      ]
     },
     "execution_count": 105,
     "metadata": {},
     "output_type": "execute_result"
    }
   ],
   "source": [
    "# Creating an Opening Column where we store the moves taken at the begining if the game using the opening_ply column\n",
    "df['opening_num'] = df.apply(lambda row: len(row[\"moves\"][:int(row[\"opening_ply\"])]), axis=1)\n",
    "df.loc[4, 'opening_num']\n"
   ]
  },
  {
   "cell_type": "code",
   "execution_count": 106,
   "metadata": {},
   "outputs": [
    {
     "data": {
      "text/plain": [
       "2"
      ]
     },
     "execution_count": 106,
     "metadata": {},
     "output_type": "execute_result"
    }
   ],
   "source": [
    "# Creating a last_moves column where we store the last two moves of each game\n",
    "df['last_moves_num'] = df['moves'].apply(lambda x: len(x[-2]))\n",
    "df.loc[4, 'last_moves_num']"
   ]
  },
  {
   "cell_type": "code",
   "execution_count": 107,
   "metadata": {},
   "outputs": [
    {
     "data": {
      "text/plain": [
       "1         2\n",
       "2        26\n",
       "3        26\n",
       "4        41\n",
       "6         5\n",
       "         ..\n",
       "20053     8\n",
       "20054    37\n",
       "20055    13\n",
       "20056    49\n",
       "20057    34\n",
       "Name: midMoves_num, Length: 18593, dtype: int64"
      ]
     },
     "execution_count": 107,
     "metadata": {},
     "output_type": "execute_result"
    }
   ],
   "source": [
    "# Creating a column for the number of mid-game moves between the opening and last moves\n",
    "df['midMoves_num'] = df['moves_num'] - 2- df['opening_ply']\n",
    "df['midMoves_num']"
   ]
  },
  {
   "cell_type": "code",
   "execution_count": 108,
   "metadata": {},
   "outputs": [],
   "source": [
    "# Preprocessing the opening_name column\n",
    "df['opening_name'] = df['opening_name'].apply(lambda x: x.split(':')[0].split('|')[0].split('#')[0])"
   ]
  },
  {
   "cell_type": "code",
   "execution_count": 109,
   "metadata": {},
   "outputs": [
    {
     "data": {
      "text/plain": [
       "array(['Nimzowitsch Defense', \"King's Pawn Game\", \"Queen's Pawn Game\",\n",
       "       'Philidor Defense', 'Blackmar-Diemer Gambit', 'Italian Game',\n",
       "       'Scandinavian Defense', \"Van't Kruijs Opening\", 'French Defense',\n",
       "       'French Defense ', 'Four Knights Game', 'Philidor Defense ',\n",
       "       'Sicilian Defense', 'English Opening', 'Scotch Game',\n",
       "       'Slav Defense', \"Queen's Gambit Refused\",\n",
       "       \"Queen's Gambit Accepted\", 'Robatsch (Modern) Defense',\n",
       "       'Indian Game', 'Dutch Defense', 'Vienna Game', 'Modern Defense',\n",
       "       'Horwitz Defense', 'Blumenfeld Countergambit ',\n",
       "       'Zukertort Opening', \"Queen's Pawn\", 'Crab Opening',\n",
       "       \"Queen's Indian Defense\", 'Gruenfeld Defense',\n",
       "       \"Queen's Gambit Declined\", 'Yusupov-Rubinstein System',\n",
       "       'Ruy Lopez', \"Bishop's Opening\", 'Benoni Defense',\n",
       "       \"King's Indian Attack\", 'Alekhine Defense ', 'Alekhine Defense',\n",
       "       'Caro-Kann Defense', 'Goldsmith Defense', 'Nimzo-Indian Defense',\n",
       "       'Bogo-Indian Defense', 'Amar Opening', 'Paleface Attack',\n",
       "       'Hungarian Opening', \"Queen's Pawn Game \", 'Center Game',\n",
       "       'Englund Gambit Declined ', 'Giuoco Piano', \"Petrov's Defense\",\n",
       "       'Russian Game', 'Pirc Defense ', 'St. George Defense',\n",
       "       'Nimzo-Indian Defense ', 'Bird Opening', 'Owen Defense',\n",
       "       'Semi-Slav Defense', 'English Defense ', \"King's Gambit Accepted \",\n",
       "       \"Petrov's Defense \", \"King's Pawn Opening\", 'Polish Opening',\n",
       "       'Ponziani Opening', 'East Indian Defense', 'Reti Opening',\n",
       "       'Nimzo-Larsen Attack', 'Center Game ', \"King's Knight Opening\",\n",
       "       'Torre Attack ', 'Creepy Crawly Formation', 'Elephant Gambit',\n",
       "       'Latvian Gambit', 'Global Opening', 'Trompowsky Attack',\n",
       "       'Englund Gambit', 'Sicilian Defense ', 'Pirc Defense',\n",
       "       \"King's Gambit Declined \", 'Danish Gambit Accepted ',\n",
       "       'Mieses Opening', 'Carr Defense', \"King's Indian Defense\",\n",
       "       'Three Knights Opening', 'Budapest Defense',\n",
       "       'Richter-Veresov Attack', 'Slav Defense ', 'Franco-Benoni Defense',\n",
       "       'Van Geet Opening', 'Polish Defense', 'Old Benoni Defense',\n",
       "       'Kadas Opening', 'Vienna Game ', 'System',\n",
       "       'Three Knights Opening ', 'Blackmar-Diemer Gambit ', 'Rat Defense',\n",
       "       'Englund Gambit Complex', 'Reti Opening ', \"Gedult's Opening\",\n",
       "       'Colle System', 'Nimzowitsch-Larsen Attack', 'Colle System ',\n",
       "       \"King's Gambit\", 'English Defense', 'Mikenas Defense',\n",
       "       'Tarrasch Defense', 'Old Indian Defense', 'Anderssen Opening',\n",
       "       'Latvian Gambit Accepted', 'Latvian Gambit Accepted ',\n",
       "       'Caro-Kann Defense ', 'Portuguese Opening', \"Queen's Gambit\",\n",
       "       'Old Indian', 'Nimzowitsch Defense ', 'London System',\n",
       "       \"Queen's Pawn Opening\", 'Clemenz Opening',\n",
       "       'Blackmar-Diemer Gambit Declined ', 'Mexican Defense',\n",
       "       'Barnes Defense', 'Saragossa Opening', 'Duras Gambit',\n",
       "       'Gunderam Defense', 'Ware Opening', \"King's Gambit Accepted\",\n",
       "       \"King's Gambit Declined\", 'Hippopotamus Defense ',\n",
       "       'Catalan Opening', 'Danish Gambit Accepted', 'Grob Opening',\n",
       "       'Torre Attack', 'Lion Defense', 'Guatemala Defense',\n",
       "       'Sodium Attack', 'Doery Defense', 'Benko Gambit Accepted ',\n",
       "       'Amazon Attack', 'Wade Defense', 'Borg Defense',\n",
       "       'Kangaroo Defense', 'Semi-Bononi', 'Benko Gambit Declined ',\n",
       "       'Slav Indian', 'Benko Gambit', 'Petrov', \"King's Gambit \",\n",
       "       'Englund Gambit Complex Declined', 'Danish Gambit',\n",
       "       'Blumenfeld Countergambit Accepted', \"King's Pawn\",\n",
       "       'Richter-Veresov Attack ', 'Neo-Gruenfeld Defense',\n",
       "       \"Queen's Indian Accelerated\", 'Australian Defense',\n",
       "       'Lemming Defense', 'Ware Defense', 'Valencia Opening',\n",
       "       'Scotch Gambit', 'Old Benoni Defense ', 'Czech Defense',\n",
       "       \"King's Indian \", 'Barnes Opening', 'Center Game Accepted',\n",
       "       'Danish Gambit Declined ', 'Canard Opening', 'Pterodactyl Defense',\n",
       "       'Rubinstein Opening'], dtype=object)"
      ]
     },
     "execution_count": 109,
     "metadata": {},
     "output_type": "execute_result"
    }
   ],
   "source": [
    "(df['opening_name'].unique())"
   ]
  },
  {
   "cell_type": "code",
   "execution_count": 110,
   "metadata": {},
   "outputs": [],
   "source": [
    "# We going to  deop the opening name  columns because generate a lot of dimnesionality due to high number of unique values\n",
    "df.drop(['opening_name'], axis=1, inplace=True)"
   ]
  },
  {
   "cell_type": "code",
   "execution_count": 111,
   "metadata": {},
   "outputs": [],
   "source": [
    "# Now we are going to drop the opening_ply column because it become useless for our analysis\n",
    "df.drop(['opening_ply'], axis=1, inplace=True)"
   ]
  },
  {
   "cell_type": "code",
   "execution_count": 112,
   "metadata": {},
   "outputs": [],
   "source": [
    "# We going to drop the opening_eco column because it is not useful for our analysis\n",
    "df.drop(['opening_eco'], axis=1, inplace=True)"
   ]
  },
  {
   "cell_type": "code",
   "execution_count": 113,
   "metadata": {},
   "outputs": [],
   "source": [
    "df.drop(['turns'], axis=1, inplace=True)"
   ]
  },
  {
   "cell_type": "code",
   "execution_count": 114,
   "metadata": {},
   "outputs": [],
   "source": [
    "df.drop(['moves'], axis = 1, inplace = True)"
   ]
  },
  {
   "cell_type": "code",
   "execution_count": 115,
   "metadata": {},
   "outputs": [],
   "source": [
    "df.drop(['rated'], axis=1,inplace=True)"
   ]
  },
  {
   "cell_type": "code",
   "execution_count": 116,
   "metadata": {},
   "outputs": [],
   "source": [
    "df.drop(['increment_code'],axis=1,inplace=True)"
   ]
  },
  {
   "cell_type": "code",
   "execution_count": 117,
   "metadata": {},
   "outputs": [],
   "source": [
    "df.drop(['last_moves_num'],axis=1,inplace=True)"
   ]
  },
  {
   "cell_type": "code",
   "execution_count": 118,
   "metadata": {},
   "outputs": [
    {
     "data": {
      "text/html": [
       "<div>\n",
       "<style scoped>\n",
       "    .dataframe tbody tr th:only-of-type {\n",
       "        vertical-align: middle;\n",
       "    }\n",
       "\n",
       "    .dataframe tbody tr th {\n",
       "        vertical-align: top;\n",
       "    }\n",
       "\n",
       "    .dataframe thead th {\n",
       "        text-align: right;\n",
       "    }\n",
       "</style>\n",
       "<table border=\"1\" class=\"dataframe\">\n",
       "  <thead>\n",
       "    <tr style=\"text-align: right;\">\n",
       "      <th></th>\n",
       "      <th>winner</th>\n",
       "      <th>white_rating</th>\n",
       "      <th>black_rating</th>\n",
       "      <th>victory_status_draw</th>\n",
       "      <th>victory_status_mate</th>\n",
       "      <th>victory_status_outoftime</th>\n",
       "      <th>victory_status_resign</th>\n",
       "      <th>moves_num</th>\n",
       "      <th>opening_num</th>\n",
       "      <th>midMoves_num</th>\n",
       "    </tr>\n",
       "  </thead>\n",
       "  <tbody>\n",
       "    <tr>\n",
       "      <th>1</th>\n",
       "      <td>black</td>\n",
       "      <td>1322</td>\n",
       "      <td>1261</td>\n",
       "      <td>0</td>\n",
       "      <td>0</td>\n",
       "      <td>0</td>\n",
       "      <td>1</td>\n",
       "      <td>8</td>\n",
       "      <td>4</td>\n",
       "      <td>2</td>\n",
       "    </tr>\n",
       "    <tr>\n",
       "      <th>2</th>\n",
       "      <td>white</td>\n",
       "      <td>1496</td>\n",
       "      <td>1500</td>\n",
       "      <td>0</td>\n",
       "      <td>1</td>\n",
       "      <td>0</td>\n",
       "      <td>0</td>\n",
       "      <td>31</td>\n",
       "      <td>3</td>\n",
       "      <td>26</td>\n",
       "    </tr>\n",
       "    <tr>\n",
       "      <th>3</th>\n",
       "      <td>white</td>\n",
       "      <td>1439</td>\n",
       "      <td>1454</td>\n",
       "      <td>0</td>\n",
       "      <td>1</td>\n",
       "      <td>0</td>\n",
       "      <td>0</td>\n",
       "      <td>31</td>\n",
       "      <td>3</td>\n",
       "      <td>26</td>\n",
       "    </tr>\n",
       "    <tr>\n",
       "      <th>4</th>\n",
       "      <td>white</td>\n",
       "      <td>1523</td>\n",
       "      <td>1469</td>\n",
       "      <td>0</td>\n",
       "      <td>1</td>\n",
       "      <td>0</td>\n",
       "      <td>0</td>\n",
       "      <td>48</td>\n",
       "      <td>5</td>\n",
       "      <td>41</td>\n",
       "    </tr>\n",
       "    <tr>\n",
       "      <th>6</th>\n",
       "      <td>white</td>\n",
       "      <td>1520</td>\n",
       "      <td>1423</td>\n",
       "      <td>0</td>\n",
       "      <td>0</td>\n",
       "      <td>0</td>\n",
       "      <td>1</td>\n",
       "      <td>17</td>\n",
       "      <td>10</td>\n",
       "      <td>5</td>\n",
       "    </tr>\n",
       "  </tbody>\n",
       "</table>\n",
       "</div>"
      ],
      "text/plain": [
       "  winner  white_rating  black_rating  victory_status_draw  \\\n",
       "1  black          1322          1261                    0   \n",
       "2  white          1496          1500                    0   \n",
       "3  white          1439          1454                    0   \n",
       "4  white          1523          1469                    0   \n",
       "6  white          1520          1423                    0   \n",
       "\n",
       "   victory_status_mate  victory_status_outoftime  victory_status_resign  \\\n",
       "1                    0                         0                      1   \n",
       "2                    1                         0                      0   \n",
       "3                    1                         0                      0   \n",
       "4                    1                         0                      0   \n",
       "6                    0                         0                      1   \n",
       "\n",
       "   moves_num  opening_num  midMoves_num  \n",
       "1          8            4             2  \n",
       "2         31            3            26  \n",
       "3         31            3            26  \n",
       "4         48            5            41  \n",
       "6         17           10             5  "
      ]
     },
     "metadata": {},
     "output_type": "display_data"
    },
    {
     "name": "stdout",
     "output_type": "stream",
     "text": [
      "<class 'pandas.core.frame.DataFrame'>\n",
      "Index: 18593 entries, 1 to 20057\n",
      "Data columns (total 10 columns):\n",
      " #   Column                    Non-Null Count  Dtype \n",
      "---  ------                    --------------  ----- \n",
      " 0   winner                    18593 non-null  object\n",
      " 1   white_rating              18593 non-null  int64 \n",
      " 2   black_rating              18593 non-null  int64 \n",
      " 3   victory_status_draw       18593 non-null  int32 \n",
      " 4   victory_status_mate       18593 non-null  int32 \n",
      " 5   victory_status_outoftime  18593 non-null  int32 \n",
      " 6   victory_status_resign     18593 non-null  int32 \n",
      " 7   moves_num                 18593 non-null  int64 \n",
      " 8   opening_num               18593 non-null  int64 \n",
      " 9   midMoves_num              18593 non-null  int64 \n",
      "dtypes: int32(4), int64(5), object(1)\n",
      "memory usage: 1.8+ MB\n"
     ]
    },
    {
     "data": {
      "text/plain": [
       "None"
      ]
     },
     "metadata": {},
     "output_type": "display_data"
    },
    {
     "data": {
      "text/html": [
       "<div>\n",
       "<style scoped>\n",
       "    .dataframe tbody tr th:only-of-type {\n",
       "        vertical-align: middle;\n",
       "    }\n",
       "\n",
       "    .dataframe tbody tr th {\n",
       "        vertical-align: top;\n",
       "    }\n",
       "\n",
       "    .dataframe thead th {\n",
       "        text-align: right;\n",
       "    }\n",
       "</style>\n",
       "<table border=\"1\" class=\"dataframe\">\n",
       "  <thead>\n",
       "    <tr style=\"text-align: right;\">\n",
       "      <th></th>\n",
       "      <th>white_rating</th>\n",
       "      <th>black_rating</th>\n",
       "      <th>victory_status_draw</th>\n",
       "      <th>victory_status_mate</th>\n",
       "      <th>victory_status_outoftime</th>\n",
       "      <th>victory_status_resign</th>\n",
       "      <th>moves_num</th>\n",
       "      <th>opening_num</th>\n",
       "      <th>midMoves_num</th>\n",
       "    </tr>\n",
       "  </thead>\n",
       "  <tbody>\n",
       "    <tr>\n",
       "      <th>count</th>\n",
       "      <td>18593.000000</td>\n",
       "      <td>18593.000000</td>\n",
       "      <td>18593.000000</td>\n",
       "      <td>18593.000000</td>\n",
       "      <td>18593.000000</td>\n",
       "      <td>18593.000000</td>\n",
       "      <td>18593.000000</td>\n",
       "      <td>18593.000000</td>\n",
       "      <td>18593.000000</td>\n",
       "    </tr>\n",
       "    <tr>\n",
       "      <th>mean</th>\n",
       "      <td>1601.585543</td>\n",
       "      <td>1594.632227</td>\n",
       "      <td>0.041575</td>\n",
       "      <td>0.322648</td>\n",
       "      <td>0.079654</td>\n",
       "      <td>0.556123</td>\n",
       "      <td>30.795084</td>\n",
       "      <td>4.890335</td>\n",
       "      <td>23.895391</td>\n",
       "    </tr>\n",
       "    <tr>\n",
       "      <th>std</th>\n",
       "      <td>287.542789</td>\n",
       "      <td>288.112627</td>\n",
       "      <td>0.199621</td>\n",
       "      <td>0.467502</td>\n",
       "      <td>0.270764</td>\n",
       "      <td>0.496854</td>\n",
       "      <td>14.228139</td>\n",
       "      <td>2.777261</td>\n",
       "      <td>14.504183</td>\n",
       "    </tr>\n",
       "    <tr>\n",
       "      <th>min</th>\n",
       "      <td>784.000000</td>\n",
       "      <td>789.000000</td>\n",
       "      <td>0.000000</td>\n",
       "      <td>0.000000</td>\n",
       "      <td>0.000000</td>\n",
       "      <td>0.000000</td>\n",
       "      <td>8.000000</td>\n",
       "      <td>1.000000</td>\n",
       "      <td>-14.000000</td>\n",
       "    </tr>\n",
       "    <tr>\n",
       "      <th>25%</th>\n",
       "      <td>1404.000000</td>\n",
       "      <td>1400.000000</td>\n",
       "      <td>0.000000</td>\n",
       "      <td>0.000000</td>\n",
       "      <td>0.000000</td>\n",
       "      <td>0.000000</td>\n",
       "      <td>20.000000</td>\n",
       "      <td>3.000000</td>\n",
       "      <td>13.000000</td>\n",
       "    </tr>\n",
       "    <tr>\n",
       "      <th>50%</th>\n",
       "      <td>1572.000000</td>\n",
       "      <td>1566.000000</td>\n",
       "      <td>0.000000</td>\n",
       "      <td>0.000000</td>\n",
       "      <td>0.000000</td>\n",
       "      <td>1.000000</td>\n",
       "      <td>28.000000</td>\n",
       "      <td>4.000000</td>\n",
       "      <td>22.000000</td>\n",
       "    </tr>\n",
       "    <tr>\n",
       "      <th>75%</th>\n",
       "      <td>1795.000000</td>\n",
       "      <td>1789.000000</td>\n",
       "      <td>0.000000</td>\n",
       "      <td>1.000000</td>\n",
       "      <td>0.000000</td>\n",
       "      <td>1.000000</td>\n",
       "      <td>39.000000</td>\n",
       "      <td>6.000000</td>\n",
       "      <td>33.000000</td>\n",
       "    </tr>\n",
       "    <tr>\n",
       "      <th>max</th>\n",
       "      <td>2700.000000</td>\n",
       "      <td>2621.000000</td>\n",
       "      <td>1.000000</td>\n",
       "      <td>1.000000</td>\n",
       "      <td>1.000000</td>\n",
       "      <td>1.000000</td>\n",
       "      <td>71.000000</td>\n",
       "      <td>28.000000</td>\n",
       "      <td>68.000000</td>\n",
       "    </tr>\n",
       "  </tbody>\n",
       "</table>\n",
       "</div>"
      ],
      "text/plain": [
       "       white_rating  black_rating  victory_status_draw  victory_status_mate  \\\n",
       "count  18593.000000  18593.000000         18593.000000         18593.000000   \n",
       "mean    1601.585543   1594.632227             0.041575             0.322648   \n",
       "std      287.542789    288.112627             0.199621             0.467502   \n",
       "min      784.000000    789.000000             0.000000             0.000000   \n",
       "25%     1404.000000   1400.000000             0.000000             0.000000   \n",
       "50%     1572.000000   1566.000000             0.000000             0.000000   \n",
       "75%     1795.000000   1789.000000             0.000000             1.000000   \n",
       "max     2700.000000   2621.000000             1.000000             1.000000   \n",
       "\n",
       "       victory_status_outoftime  victory_status_resign     moves_num  \\\n",
       "count              18593.000000           18593.000000  18593.000000   \n",
       "mean                   0.079654               0.556123     30.795084   \n",
       "std                    0.270764               0.496854     14.228139   \n",
       "min                    0.000000               0.000000      8.000000   \n",
       "25%                    0.000000               0.000000     20.000000   \n",
       "50%                    0.000000               1.000000     28.000000   \n",
       "75%                    0.000000               1.000000     39.000000   \n",
       "max                    1.000000               1.000000     71.000000   \n",
       "\n",
       "        opening_num  midMoves_num  \n",
       "count  18593.000000  18593.000000  \n",
       "mean       4.890335     23.895391  \n",
       "std        2.777261     14.504183  \n",
       "min        1.000000    -14.000000  \n",
       "25%        3.000000     13.000000  \n",
       "50%        4.000000     22.000000  \n",
       "75%        6.000000     33.000000  \n",
       "max       28.000000     68.000000  "
      ]
     },
     "metadata": {},
     "output_type": "display_data"
    }
   ],
   "source": [
    "# Previewing dataset after cleaning so far\n",
    "display(df.head())\n",
    "display(df.info())\n",
    "display(df.describe())"
   ]
  },
  {
   "cell_type": "code",
   "execution_count": 119,
   "metadata": {},
   "outputs": [
    {
     "data": {
      "text/html": [
       "<div>\n",
       "<style scoped>\n",
       "    .dataframe tbody tr th:only-of-type {\n",
       "        vertical-align: middle;\n",
       "    }\n",
       "\n",
       "    .dataframe tbody tr th {\n",
       "        vertical-align: top;\n",
       "    }\n",
       "\n",
       "    .dataframe thead th {\n",
       "        text-align: right;\n",
       "    }\n",
       "</style>\n",
       "<table border=\"1\" class=\"dataframe\">\n",
       "  <thead>\n",
       "    <tr style=\"text-align: right;\">\n",
       "      <th></th>\n",
       "      <th>winner</th>\n",
       "      <th>white_rating</th>\n",
       "      <th>black_rating</th>\n",
       "      <th>victory_status_draw</th>\n",
       "      <th>victory_status_mate</th>\n",
       "      <th>victory_status_outoftime</th>\n",
       "      <th>victory_status_resign</th>\n",
       "      <th>moves_num</th>\n",
       "      <th>opening_num</th>\n",
       "      <th>midMoves_num</th>\n",
       "    </tr>\n",
       "  </thead>\n",
       "  <tbody>\n",
       "    <tr>\n",
       "      <th>1</th>\n",
       "      <td>black</td>\n",
       "      <td>0.280793</td>\n",
       "      <td>0.257642</td>\n",
       "      <td>0.0</td>\n",
       "      <td>0.0</td>\n",
       "      <td>0.0</td>\n",
       "      <td>1.0</td>\n",
       "      <td>0.000000</td>\n",
       "      <td>0.111111</td>\n",
       "      <td>0.195122</td>\n",
       "    </tr>\n",
       "    <tr>\n",
       "      <th>2</th>\n",
       "      <td>white</td>\n",
       "      <td>0.371608</td>\n",
       "      <td>0.388100</td>\n",
       "      <td>0.0</td>\n",
       "      <td>1.0</td>\n",
       "      <td>0.0</td>\n",
       "      <td>0.0</td>\n",
       "      <td>0.365079</td>\n",
       "      <td>0.074074</td>\n",
       "      <td>0.487805</td>\n",
       "    </tr>\n",
       "    <tr>\n",
       "      <th>3</th>\n",
       "      <td>white</td>\n",
       "      <td>0.341858</td>\n",
       "      <td>0.362991</td>\n",
       "      <td>0.0</td>\n",
       "      <td>1.0</td>\n",
       "      <td>0.0</td>\n",
       "      <td>0.0</td>\n",
       "      <td>0.365079</td>\n",
       "      <td>0.074074</td>\n",
       "      <td>0.487805</td>\n",
       "    </tr>\n",
       "    <tr>\n",
       "      <th>4</th>\n",
       "      <td>white</td>\n",
       "      <td>0.385699</td>\n",
       "      <td>0.371179</td>\n",
       "      <td>0.0</td>\n",
       "      <td>1.0</td>\n",
       "      <td>0.0</td>\n",
       "      <td>0.0</td>\n",
       "      <td>0.634921</td>\n",
       "      <td>0.148148</td>\n",
       "      <td>0.670732</td>\n",
       "    </tr>\n",
       "    <tr>\n",
       "      <th>6</th>\n",
       "      <td>white</td>\n",
       "      <td>0.384134</td>\n",
       "      <td>0.346070</td>\n",
       "      <td>0.0</td>\n",
       "      <td>0.0</td>\n",
       "      <td>0.0</td>\n",
       "      <td>1.0</td>\n",
       "      <td>0.142857</td>\n",
       "      <td>0.333333</td>\n",
       "      <td>0.231707</td>\n",
       "    </tr>\n",
       "  </tbody>\n",
       "</table>\n",
       "</div>"
      ],
      "text/plain": [
       "  winner  white_rating  black_rating  victory_status_draw  \\\n",
       "1  black      0.280793      0.257642                  0.0   \n",
       "2  white      0.371608      0.388100                  0.0   \n",
       "3  white      0.341858      0.362991                  0.0   \n",
       "4  white      0.385699      0.371179                  0.0   \n",
       "6  white      0.384134      0.346070                  0.0   \n",
       "\n",
       "   victory_status_mate  victory_status_outoftime  victory_status_resign  \\\n",
       "1                  0.0                       0.0                    1.0   \n",
       "2                  1.0                       0.0                    0.0   \n",
       "3                  1.0                       0.0                    0.0   \n",
       "4                  1.0                       0.0                    0.0   \n",
       "6                  0.0                       0.0                    1.0   \n",
       "\n",
       "   moves_num  opening_num  midMoves_num  \n",
       "1   0.000000     0.111111      0.195122  \n",
       "2   0.365079     0.074074      0.487805  \n",
       "3   0.365079     0.074074      0.487805  \n",
       "4   0.634921     0.148148      0.670732  \n",
       "6   0.142857     0.333333      0.231707  "
      ]
     },
     "metadata": {},
     "output_type": "display_data"
    },
    {
     "ename": "ValueError",
     "evalue": "could not convert string to float: 'black'",
     "output_type": "error",
     "traceback": [
      "\u001b[1;31m---------------------------------------------------------------------------\u001b[0m",
      "\u001b[1;31mValueError\u001b[0m                                Traceback (most recent call last)",
      "\u001b[1;32mc:\\Users\\Administrator\\OneDrive\\سطح المكتب\\project\\main (1).ipynb Cell 44\u001b[0m in \u001b[0;36m<cell line: 11>\u001b[1;34m()\u001b[0m\n\u001b[0;32m      <a href='vscode-notebook-cell:/c%3A/Users/Administrator/OneDrive/%D8%B3%D8%B7%D8%AD%20%D8%A7%D9%84%D9%85%D9%83%D8%AA%D8%A8/project/main%20%281%29.ipynb#X55sZmlsZQ%3D%3D?line=7'>8</a>\u001b[0m df[num_columns] \u001b[39m=\u001b[39m scaler\u001b[39m.\u001b[39mfit_transform(df[num_columns])\n\u001b[0;32m      <a href='vscode-notebook-cell:/c%3A/Users/Administrator/OneDrive/%D8%B3%D8%B7%D8%AD%20%D8%A7%D9%84%D9%85%D9%83%D8%AA%D8%A8/project/main%20%281%29.ipynb#X55sZmlsZQ%3D%3D?line=8'>9</a>\u001b[0m display(df\u001b[39m.\u001b[39mhead())\n\u001b[1;32m---> <a href='vscode-notebook-cell:/c%3A/Users/Administrator/OneDrive/%D8%B3%D8%B7%D8%AD%20%D8%A7%D9%84%D9%85%D9%83%D8%AA%D8%A8/project/main%20%281%29.ipynb#X55sZmlsZQ%3D%3D?line=10'>11</a>\u001b[0m corr \u001b[39m=\u001b[39m df\u001b[39m.\u001b[39;49mcorr()\n",
      "File \u001b[1;32mc:\\Users\\Administrator\\AppData\\Local\\Programs\\Python\\Python310\\lib\\site-packages\\pandas\\core\\frame.py:10054\u001b[0m, in \u001b[0;36mDataFrame.corr\u001b[1;34m(self, method, min_periods, numeric_only)\u001b[0m\n\u001b[0;32m  10052\u001b[0m cols \u001b[39m=\u001b[39m data\u001b[39m.\u001b[39mcolumns\n\u001b[0;32m  10053\u001b[0m idx \u001b[39m=\u001b[39m cols\u001b[39m.\u001b[39mcopy()\n\u001b[1;32m> 10054\u001b[0m mat \u001b[39m=\u001b[39m data\u001b[39m.\u001b[39;49mto_numpy(dtype\u001b[39m=\u001b[39;49m\u001b[39mfloat\u001b[39;49m, na_value\u001b[39m=\u001b[39;49mnp\u001b[39m.\u001b[39;49mnan, copy\u001b[39m=\u001b[39;49m\u001b[39mFalse\u001b[39;49;00m)\n\u001b[0;32m  10056\u001b[0m \u001b[39mif\u001b[39;00m method \u001b[39m==\u001b[39m \u001b[39m\"\u001b[39m\u001b[39mpearson\u001b[39m\u001b[39m\"\u001b[39m:\n\u001b[0;32m  10057\u001b[0m     correl \u001b[39m=\u001b[39m libalgos\u001b[39m.\u001b[39mnancorr(mat, minp\u001b[39m=\u001b[39mmin_periods)\n",
      "File \u001b[1;32mc:\\Users\\Administrator\\AppData\\Local\\Programs\\Python\\Python310\\lib\\site-packages\\pandas\\core\\frame.py:1838\u001b[0m, in \u001b[0;36mDataFrame.to_numpy\u001b[1;34m(self, dtype, copy, na_value)\u001b[0m\n\u001b[0;32m   1836\u001b[0m \u001b[39mif\u001b[39;00m dtype \u001b[39mis\u001b[39;00m \u001b[39mnot\u001b[39;00m \u001b[39mNone\u001b[39;00m:\n\u001b[0;32m   1837\u001b[0m     dtype \u001b[39m=\u001b[39m np\u001b[39m.\u001b[39mdtype(dtype)\n\u001b[1;32m-> 1838\u001b[0m result \u001b[39m=\u001b[39m \u001b[39mself\u001b[39;49m\u001b[39m.\u001b[39;49m_mgr\u001b[39m.\u001b[39;49mas_array(dtype\u001b[39m=\u001b[39;49mdtype, copy\u001b[39m=\u001b[39;49mcopy, na_value\u001b[39m=\u001b[39;49mna_value)\n\u001b[0;32m   1839\u001b[0m \u001b[39mif\u001b[39;00m result\u001b[39m.\u001b[39mdtype \u001b[39mis\u001b[39;00m \u001b[39mnot\u001b[39;00m dtype:\n\u001b[0;32m   1840\u001b[0m     result \u001b[39m=\u001b[39m np\u001b[39m.\u001b[39marray(result, dtype\u001b[39m=\u001b[39mdtype, copy\u001b[39m=\u001b[39m\u001b[39mFalse\u001b[39;00m)\n",
      "File \u001b[1;32mc:\\Users\\Administrator\\AppData\\Local\\Programs\\Python\\Python310\\lib\\site-packages\\pandas\\core\\internals\\managers.py:1732\u001b[0m, in \u001b[0;36mBlockManager.as_array\u001b[1;34m(self, dtype, copy, na_value)\u001b[0m\n\u001b[0;32m   1730\u001b[0m         arr\u001b[39m.\u001b[39mflags\u001b[39m.\u001b[39mwriteable \u001b[39m=\u001b[39m \u001b[39mFalse\u001b[39;00m\n\u001b[0;32m   1731\u001b[0m \u001b[39melse\u001b[39;00m:\n\u001b[1;32m-> 1732\u001b[0m     arr \u001b[39m=\u001b[39m \u001b[39mself\u001b[39;49m\u001b[39m.\u001b[39;49m_interleave(dtype\u001b[39m=\u001b[39;49mdtype, na_value\u001b[39m=\u001b[39;49mna_value)\n\u001b[0;32m   1733\u001b[0m     \u001b[39m# The underlying data was copied within _interleave, so no need\u001b[39;00m\n\u001b[0;32m   1734\u001b[0m     \u001b[39m# to further copy if copy=True or setting na_value\u001b[39;00m\n\u001b[0;32m   1736\u001b[0m \u001b[39mif\u001b[39;00m na_value \u001b[39mis\u001b[39;00m \u001b[39mnot\u001b[39;00m lib\u001b[39m.\u001b[39mno_default:\n",
      "File \u001b[1;32mc:\\Users\\Administrator\\AppData\\Local\\Programs\\Python\\Python310\\lib\\site-packages\\pandas\\core\\internals\\managers.py:1794\u001b[0m, in \u001b[0;36mBlockManager._interleave\u001b[1;34m(self, dtype, na_value)\u001b[0m\n\u001b[0;32m   1792\u001b[0m     \u001b[39melse\u001b[39;00m:\n\u001b[0;32m   1793\u001b[0m         arr \u001b[39m=\u001b[39m blk\u001b[39m.\u001b[39mget_values(dtype)\n\u001b[1;32m-> 1794\u001b[0m     result[rl\u001b[39m.\u001b[39mindexer] \u001b[39m=\u001b[39m arr\n\u001b[0;32m   1795\u001b[0m     itemmask[rl\u001b[39m.\u001b[39mindexer] \u001b[39m=\u001b[39m \u001b[39m1\u001b[39m\n\u001b[0;32m   1797\u001b[0m \u001b[39mif\u001b[39;00m \u001b[39mnot\u001b[39;00m itemmask\u001b[39m.\u001b[39mall():\n",
      "\u001b[1;31mValueError\u001b[0m: could not convert string to float: 'black'"
     ]
    }
   ],
   "source": [
    "# Scaling(Normalizing) numerical columns in the dataset\n",
    "from sklearn.preprocessing import MinMaxScaler\n",
    "\n",
    "scaler = MinMaxScaler()\n",
    "\n",
    "num_columns = df.select_dtypes(exclude=['object']).columns\n",
    "\n",
    "df[num_columns] = scaler.fit_transform(df[num_columns])\n",
    "display(df.head())\n",
    "\n",
    "corr = df.corr()"
   ]
  },
  {
   "cell_type": "markdown",
   "metadata": {},
   "source": [
    "# Training the Model"
   ]
  },
  {
   "cell_type": "code",
   "execution_count": 120,
   "metadata": {},
   "outputs": [
    {
     "data": {
      "text/html": [
       "<div>\n",
       "<style scoped>\n",
       "    .dataframe tbody tr th:only-of-type {\n",
       "        vertical-align: middle;\n",
       "    }\n",
       "\n",
       "    .dataframe tbody tr th {\n",
       "        vertical-align: top;\n",
       "    }\n",
       "\n",
       "    .dataframe thead th {\n",
       "        text-align: right;\n",
       "    }\n",
       "</style>\n",
       "<table border=\"1\" class=\"dataframe\">\n",
       "  <thead>\n",
       "    <tr style=\"text-align: right;\">\n",
       "      <th></th>\n",
       "      <th>white_rating</th>\n",
       "      <th>black_rating</th>\n",
       "      <th>victory_status_draw</th>\n",
       "      <th>victory_status_mate</th>\n",
       "      <th>victory_status_outoftime</th>\n",
       "      <th>victory_status_resign</th>\n",
       "      <th>moves_num</th>\n",
       "      <th>opening_num</th>\n",
       "      <th>midMoves_num</th>\n",
       "    </tr>\n",
       "  </thead>\n",
       "  <tbody>\n",
       "    <tr>\n",
       "      <th>1</th>\n",
       "      <td>0.280793</td>\n",
       "      <td>0.257642</td>\n",
       "      <td>0.0</td>\n",
       "      <td>0.0</td>\n",
       "      <td>0.0</td>\n",
       "      <td>1.0</td>\n",
       "      <td>0.000000</td>\n",
       "      <td>0.111111</td>\n",
       "      <td>0.195122</td>\n",
       "    </tr>\n",
       "    <tr>\n",
       "      <th>2</th>\n",
       "      <td>0.371608</td>\n",
       "      <td>0.388100</td>\n",
       "      <td>0.0</td>\n",
       "      <td>1.0</td>\n",
       "      <td>0.0</td>\n",
       "      <td>0.0</td>\n",
       "      <td>0.365079</td>\n",
       "      <td>0.074074</td>\n",
       "      <td>0.487805</td>\n",
       "    </tr>\n",
       "    <tr>\n",
       "      <th>3</th>\n",
       "      <td>0.341858</td>\n",
       "      <td>0.362991</td>\n",
       "      <td>0.0</td>\n",
       "      <td>1.0</td>\n",
       "      <td>0.0</td>\n",
       "      <td>0.0</td>\n",
       "      <td>0.365079</td>\n",
       "      <td>0.074074</td>\n",
       "      <td>0.487805</td>\n",
       "    </tr>\n",
       "    <tr>\n",
       "      <th>4</th>\n",
       "      <td>0.385699</td>\n",
       "      <td>0.371179</td>\n",
       "      <td>0.0</td>\n",
       "      <td>1.0</td>\n",
       "      <td>0.0</td>\n",
       "      <td>0.0</td>\n",
       "      <td>0.634921</td>\n",
       "      <td>0.148148</td>\n",
       "      <td>0.670732</td>\n",
       "    </tr>\n",
       "    <tr>\n",
       "      <th>6</th>\n",
       "      <td>0.384134</td>\n",
       "      <td>0.346070</td>\n",
       "      <td>0.0</td>\n",
       "      <td>0.0</td>\n",
       "      <td>0.0</td>\n",
       "      <td>1.0</td>\n",
       "      <td>0.142857</td>\n",
       "      <td>0.333333</td>\n",
       "      <td>0.231707</td>\n",
       "    </tr>\n",
       "  </tbody>\n",
       "</table>\n",
       "</div>"
      ],
      "text/plain": [
       "   white_rating  black_rating  victory_status_draw  victory_status_mate  \\\n",
       "1      0.280793      0.257642                  0.0                  0.0   \n",
       "2      0.371608      0.388100                  0.0                  1.0   \n",
       "3      0.341858      0.362991                  0.0                  1.0   \n",
       "4      0.385699      0.371179                  0.0                  1.0   \n",
       "6      0.384134      0.346070                  0.0                  0.0   \n",
       "\n",
       "   victory_status_outoftime  victory_status_resign  moves_num  opening_num  \\\n",
       "1                       0.0                    1.0   0.000000     0.111111   \n",
       "2                       0.0                    0.0   0.365079     0.074074   \n",
       "3                       0.0                    0.0   0.365079     0.074074   \n",
       "4                       0.0                    0.0   0.634921     0.148148   \n",
       "6                       0.0                    1.0   0.142857     0.333333   \n",
       "\n",
       "   midMoves_num  \n",
       "1      0.195122  \n",
       "2      0.487805  \n",
       "3      0.487805  \n",
       "4      0.670732  \n",
       "6      0.231707  "
      ]
     },
     "metadata": {},
     "output_type": "display_data"
    },
    {
     "data": {
      "text/plain": [
       "1        black\n",
       "2        white\n",
       "3        white\n",
       "4        white\n",
       "6        white\n",
       "         ...  \n",
       "20053    white\n",
       "20054    black\n",
       "20055    white\n",
       "20056    white\n",
       "20057    black\n",
       "Name: winner, Length: 18593, dtype: object"
      ]
     },
     "metadata": {},
     "output_type": "display_data"
    }
   ],
   "source": [
    "label = df['winner']\n",
    "df.drop('winner',axis=1,inplace=True)\n",
    "display(df.head())\n",
    "display(label)"
   ]
  },
  {
   "cell_type": "code",
   "execution_count": 155,
   "metadata": {},
   "outputs": [],
   "source": [
    "from sklearn.model_selection import train_test_split\n",
    "x = df.values\n",
    "y = label.values\n",
    "xTrain, xTest, yTrain, yTest = train_test_split(x,y,test_size=0.1, random_state=42)\n",
    "\n",
    "# from sklearn.preprocessing import StandardScaler\n",
    "# scaler = StandardScaler()\n",
    "# scaler.fit(xTrain)\n",
    "\n",
    "# xTrain = scaler.transform(xTrain)\n",
    "# xTest = scaler.transform(xTest)\n",
    "\n",
    "from sklearn.tree import DecisionTreeClassifier\n",
    "from sklearn import tree\n",
    "classifier = DecisionTreeClassifier(random_state=0,criterion='entropy',splitter='best')\n",
    "classifier = classifier.fit(xTrain,yTrain)\n",
    "# display(classifier.classes_)\n",
    "# import matplotlib.pyplot as plt\n",
    "# plt.figure(figsize=(10,10))\n",
    "# # display(df.columns[:].tolist())\n",
    "# plot_tree(classifier,feature_names=df.columns[:].tolist(),class_names=['black','draw','white'],filled=True,rounded=True)\n",
    "# plt.show()\n",
    "#print(tree.export_text(classifier,feature_names=df.columns[:].tolist()))"
   ]
  },
  {
   "cell_type": "code",
   "execution_count": 156,
   "metadata": {},
   "outputs": [
    {
     "name": "stdout",
     "output_type": "stream",
     "text": [
      "Decision Tree: \n",
      "\n",
      "Accuracy:  0.625268817204301\n",
      "Confusion Matrix: \n",
      " [[503   0 338]\n",
      " [  0  81   3]\n",
      " [355   1 579]]\n"
     ]
    }
   ],
   "source": [
    "yPred = classifier.predict(xTest)\n",
    "\n",
    "from sklearn.metrics import accuracy_score, confusion_matrix\n",
    "print('Decision Tree: \\n')\n",
    "print('Accuracy: ',accuracy_score(yTest,yPred))\n",
    "print('Confusion Matrix: \\n', confusion_matrix(yTest,yPred))\n"
   ]
  },
  {
   "cell_type": "code",
   "execution_count": 157,
   "metadata": {},
   "outputs": [
    {
     "name": "stdout",
     "output_type": "stream",
     "text": [
      "Class 1:= black \t Class 2:= draw \t Class 3:= white\n",
      "NB for Numerical Data \n",
      "\n",
      "Accuracy:= 0.636021505376344\n",
      "Confusion Matrix:= \n",
      " [[393   0 448]\n",
      " [  3  81   0]\n",
      " [226   0 709]]\n"
     ]
    }
   ],
   "source": [
    "from sklearn.naive_bayes import GaussianNB\n",
    "NBClf = GaussianNB()\n",
    "NBClf.fit(xTrain,yTrain)\n",
    "print(\"Class 1:=\",NBClf.classes_[0],'\\t Class 2:=', NBClf.classes_[1],'\\t Class 3:=',NBClf.classes_[2])\n",
    "\n",
    "NB_y_pred = NBClf.predict(xTest)\n",
    "\n",
    "print('NB for Numerical Data \\n')\n",
    "print('Accuracy:=',accuracy_score(yTest,NB_y_pred))\n",
    "print('Confusion Matrix:= \\n', confusion_matrix(yTest,NB_y_pred))"
   ]
  },
  {
   "cell_type": "code",
   "execution_count": null,
   "metadata": {},
   "outputs": [],
   "source": [
    "\n",
    "\n"
   ]
  },
  {
   "cell_type": "code",
   "execution_count": null,
   "metadata": {},
   "outputs": [],
   "source": []
  },
  {
   "cell_type": "code",
   "execution_count": null,
   "metadata": {},
   "outputs": [],
   "source": []
  }
 ],
 "metadata": {
  "kernelspec": {
   "display_name": "Python 3 (ipykernel)",
   "language": "python",
   "name": "python3"
  },
  "language_info": {
   "codemirror_mode": {
    "name": "ipython",
    "version": 3
   },
   "file_extension": ".py",
   "mimetype": "text/x-python",
   "name": "python",
   "nbconvert_exporter": "python",
   "pygments_lexer": "ipython3",
   "version": "3.10.4"
  },
  "varInspector": {
   "cols": {
    "lenName": 16,
    "lenType": 16,
    "lenVar": 40
   },
   "kernels_config": {
    "python": {
     "delete_cmd_postfix": "",
     "delete_cmd_prefix": "del ",
     "library": "var_list.py",
     "varRefreshCmd": "print(var_dic_list())"
    },
    "r": {
     "delete_cmd_postfix": ") ",
     "delete_cmd_prefix": "rm(",
     "library": "var_list.r",
     "varRefreshCmd": "cat(var_dic_list()) "
    }
   },
   "types_to_exclude": [
    "module",
    "function",
    "builtin_function_or_method",
    "instance",
    "_Feature"
   ],
   "window_display": false
  }
 },
 "nbformat": 4,
 "nbformat_minor": 2
}
