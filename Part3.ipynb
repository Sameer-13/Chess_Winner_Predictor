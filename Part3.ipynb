{
 "cells": [
  {
   "cell_type": "markdown",
   "metadata": {},
   "source": [
    "# Operationalize"
   ]
  },
  {
   "cell_type": "markdown",
   "metadata": {},
   "source": [
    "### A. Our Methodology\n",
    "\n",
    "Our methodology for this data science project involving chess game classification encompasses several key guidelines to ensure its successful adoption:\n",
    "\n",
    "1- Documentation and Reproducibility:\n",
    "\n",
    "    We have made sure to thoroughly document each step of our research and analysis, including data preprocessing, model selection, and evaluation metrics. By organizing our work and documenting each step of the way, we have enabled easy replication by others.\n",
    "\n",
    "2- Adhering to ISE 291's Guidelines:\n",
    "\n",
    "    We have attempted in this project to closely follow the data science principles explained by the course's slides and efficiently delivered by our instructor. For instance, we have followed the six phases of a data science project mentioned in chapter 1. By doing so, we have seen that most of what we studied could be applied in the real world to analyze data.\n",
    "\n",
    "3- Model Selection and Evaluation:\n",
    "\n",
    "    After we noticed that our output column is discrete nominal data, or simply categorical, we have excluded regression. Also, since the data is labeled, we were only left with the classification model. However, just to show that clustering would work if the data were not labeled, we have included a clustering model in our work. We have tried several classification models to achieve the best accuracy but have discovered that our dataset is very hard to work with. Despite that, we have employed relevant evaluation metrics such as precision, recall, and F1-score and utilized cross-validation to achieve an accurate model as possible that generalizes well to unseen data.\n",
    "\n",
    "4- Data Preprocessing:\n",
    "\n",
    "    Part of following the course's guidelines was conducting exploratory data analysis to understand the dataset and perform feature selection according to Chapter 6. Also according to chapter 5, we have outliers and categorical variables appropriately based on best practices, like using interquartiles, label encoding, and one hot encoding. Additionally, we have mined the moves column and extracted plenty information from it.\n",
    "\n",
    "5- Data Visualization\n",
    "\n",
    "    Instead of merely providing a boring file that deals with only words and complicated technical terms, we have included nearly all the types of graphs studied in this course to help the reader of our project visualize how the data features interact with each other and make reading the project an interesting journey for them.\n",
    "\n",
    "6- Project Monitoring and Maintenance:\n",
    "\n",
    "    To better organize our work, we have learned to utilize version control (Git and Github) to share our project files and update them quite easily. This has developed a sense of organization and teamwork that a data scientist needs in order to achieve optimal results with his group.\n",
    "\n",
    "7 - Ethical Considerations:\n",
    "\n",
    "    We have made sure to adhere to the ethical guidelines of the course by ensuring that our model is unique, fair, and unbiased. Therefore, we have deleted several data records that were extreme outliers and could affect our results' fidelity.\n",
    "\n",
    "8- Communication and Reporting:\n",
    "\n",
    "    We have effectively communicated findings, insights, and actionable recommendations to both technical and non-technical stakeholders.We have also utilized visualizations and clear explanations to facilitate understanding of complex concepts.\n",
    "\n",
    "By adhering to these general guidelines, our methodology ensures a robust, scalable, and practical approach to chess game classification, facilitating successful adoption in real-world scenarios."
   ]
  },
  {
   "cell_type": "markdown",
   "metadata": {},
   "source": [
    "### B. Problems and Issues\n",
    "\n",
    "There are several problems that we have faced while performing our methodology. Below are the major ones:\n",
    "\n",
    "1- Data Quality and Preprocessing:\n",
    "    \n",
    "    The  hardest problem we faced during our project is the very difficult dataset we have worked with. For example, the time was initially in the unix format, so we have converted it to normal date format. However, even after converting it, we discovered that there are massive differences in the times entered. Most games had times more than their allowed increment, which means that there start and end times have been entered wrongly. As a result, we have been forced to delete these two columns, which could have been beneficial for our analysis otherwise. Also, the weak correlation between our input and output variables have contributed to our model's relatively low accuracy. Moreover, since the input columns were a lot and could not be properly summarized with pca's, we could not properly display the three classes we got via the model. Finally, there was a column named \"moves\" that was a series of chess moves in a string format. It cost us a lot of time and effort to split this field into various ones that provided more useful info.\n",
    "\n",
    "2- Finding the proper model\n",
    "\n",
    "    We have tried nearly every model found in the course's material but could not found one that modeled our data properly. This consumed us a lot of time and effort until we decided to choose the random forrest classification model despite its low accuracy since it is the most suitable one for our data. \n",
    "\n",
    "3- Resource Constraints:\n",
    "\n",
    "    Training complex models or processing large datasets could demand substantial computational resources, potentially leading to scalability issues. Some graphs and models took a few minutes to run. For example, the classification tree took around 3 minutes and the clustering graph took around 1 minute. Running these cells over and over again to check results and test different parameters More adequate hardware and software resources would have been certainly more efficient time-wise.\n",
    "\n",
    "\n",
    "4- Choosing the proper graphs:\n",
    "\n",
    "    Given the difficulty of the dataset, it was challenging to find proper graphs that properly express relations between the fields and give insights about the data. Translating these findings to the readers was also difficult to think about and apply. We have tried as we have learned in this course to visualize data and explain these graphs as possible. However, we could not use some graphs that were not suitable to our data, like pie charts.\n",
    "\n",
    "\n",
    "\n",
    "\n"
   ]
  },
  {
   "cell_type": "markdown",
   "metadata": {},
   "source": [
    "# Communicate Results"
   ]
  },
  {
   "cell_type": "markdown",
   "metadata": {},
   "source": [
    "### A. Summary and Conclusion "
   ]
  },
  {
   "cell_type": "markdown",
   "metadata": {},
   "source": [
    "In summary, our analysis of the chess game database taken from kaggle aimed to classify game outcomes based on a range of features, utilizing a \n",
    "random forrest classification methodology. Throughout this project, we followed a systematic approach following ISE 291's guidelines that encompassed the\n",
    "six phases of a data science project: discovery, data preparation, model planning, model building, operationalizing, and communicating results. Our key findings and conclusions are as follows:\n",
    "\n",
    "1- Discovery\n",
    "\n",
    "    The discovery phase of our project, as found in Chapter 1 guidelines, involved identifying the business problem, exploring the data, and formulating a hypothesis. We began by exploring the datasets on kaggle and found an interesting database that contains thousands of chess games. Since we were chess enthusiasts, we chose it as our dataset for this project. We then selected our target variable as the game outcome and formulated a hypothesis that the game outcome can be predicted based on the game's features, including the opening moves, the number of turns, and the players' ratings. We also identified the key stakeholders, including chess players, coaches, and tournament organizers, who can benefit from our analysis.\n",
    "\n",
    "2- Data Preparation:\n",
    "\n",
    "    The data preparation phase of our project involved meticulous data cleaning and preprocessing. We began by cleaning the data, addressing  outliers to ensure data quality and checking for inconsistencies or missing data. We also dealt with columns that were unnecessary to our analysis by either extracting useful info from them or simply deleting them. We then visualized the data using a number of graphs to try and find relationships between the  data fields. This step set a strong foundation for the next phase.\n",
    "\n",
    "3- Model Planning:\n",
    "\n",
    "    The model planning phase of our project involved selecting the appropriate model and preparing the data for modeling. We began by choosing the classification model since it fits our data well. We tried different classifiers and finally settled on the random forest classifier because it is a robust model that can handle categorical data and is not prone to overfitting. We then prepared the data for modeling splitting the data into training and testing sets.\n",
    "\n",
    "4- Model Building:\n",
    "\n",
    "    The model building phase of our project involved training and evaluating the model. We began by training the model on the training set and then evaluating it on the testing set for several classifiers. We then evaluated the models using a number of metrics including accuracy, precision, recall, and F1-score. We also used cross-validation, if possible, to ensure the models' generalization capabilities and reliability in real-world scenarios. We got the highest accuracy using the random forrest as expected.\n",
    "\n",
    "5- Operationalize:\n",
    "\n",
    "    The operationalize phase of our project involved stating our methodolgy in analyzing the data and building our model. We also mentioned several problems that have faced us in the data science project. Mentioning the problems that faced us not only enhances our understanding of the model's predictions but also contributes to establishing trust among stakeholders.\n",
    "\n",
    "6- Communicate Results:\n",
    "\n",
    "    The communicate results phase of our project involved communicating our results to the stakeholders. We began by stating our findings and conclusions. Finally, we gave some future recommendations for us and other data scientists who want to continue doing projects involving data and machine learnning.\n",
    "\n",
    "### B. Our Findings and Recommendations:\n",
    "\n",
    "    We have found that for classifying chess games based on the game's outcome, the best classifier is the random forrest. We also have learned that not everything is straightforward as found in the slides. In fact, most of the times in the real world the data is hard to deal with and might not even have a suitable way of analyzing it. Therefore, if we would advise ourselves with one thing, it would be that it would have been easier for us if we had chosen a cleaner, more suitable data. With that mentioned, we were content with finding acceptable results despite the difficult dataset we dealt with. Therefore, despite the low accuracy, we consider our project a success as other models could build on it and try it on better datasets to improve its accuracy.\n",
    "\n",
    "Conclusion:\n",
    "\n",
    "    In conclusion, our analysis showcases a comprehensive approach to chess game classification, emphasizing both accuracy and interpretability. By adopting a structured methodology, we have addressed various challenges and complexities inherent in data science projects. We have emphasized and shown that accuracy is not the sole metric of success. Instead, our focus on interpretability, reproducibility, and practical deployment has yielded a robust and reliable classification solution.\n",
    "\n",
    "Final Remarks: \n",
    "\n",
    "    Moving forward, we recognize the need for ongoing monitoring, maintenance, and adaptation to changing data patterns. As we operationalize this solution, we remain dedicated to refining and enhancing our model's performance while upholding the highest ethical standards. Our analysis not only contributes insights to the realm of chess game classification but also serves as a blueprint for future data science endeavors that want to find relationships and models on chess games."
   ]
  }
 ],
 "metadata": {
  "language_info": {
   "name": "python"
  },
  "orig_nbformat": 4
 },
 "nbformat": 4,
 "nbformat_minor": 2
}
